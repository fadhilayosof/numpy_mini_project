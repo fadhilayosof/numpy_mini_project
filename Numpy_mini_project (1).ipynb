{
  "nbformat": 4,
  "nbformat_minor": 0,
  "metadata": {
    "colab": {
      "name": "Numpy_mini_project",
      "provenance": []
    },
    "kernelspec": {
      "name": "python3",
      "display_name": "Python 3"
    },
    "language_info": {
      "name": "python"
    }
  },
  "cells": [
    {
      "cell_type": "code",
      "execution_count": null,
      "metadata": {
        "colab": {
          "base_uri": "https://localhost:8080/",
          "height": 206
        },
        "id": "If6d8a3XLT1O",
        "outputId": "bf50593b-e93d-463e-ba84-d803fe1f5ab2"
      },
      "outputs": [
        {
          "output_type": "execute_result",
          "data": {
            "text/html": [
              "\n",
              "  <div id=\"df-8b1ba8be-8da2-4c10-afe3-842b2e371112\">\n",
              "    <div class=\"colab-df-container\">\n",
              "      <div>\n",
              "<style scoped>\n",
              "    .dataframe tbody tr th:only-of-type {\n",
              "        vertical-align: middle;\n",
              "    }\n",
              "\n",
              "    .dataframe tbody tr th {\n",
              "        vertical-align: top;\n",
              "    }\n",
              "\n",
              "    .dataframe thead th {\n",
              "        text-align: right;\n",
              "    }\n",
              "</style>\n",
              "<table border=\"1\" class=\"dataframe\">\n",
              "  <thead>\n",
              "    <tr style=\"text-align: right;\">\n",
              "      <th></th>\n",
              "      <th>age</th>\n",
              "      <th>education-num</th>\n",
              "      <th>race</th>\n",
              "      <th>sex</th>\n",
              "      <th>capital-gain</th>\n",
              "      <th>capital-loss</th>\n",
              "      <th>hours-per-week</th>\n",
              "      <th>income</th>\n",
              "    </tr>\n",
              "  </thead>\n",
              "  <tbody>\n",
              "    <tr>\n",
              "      <th>0</th>\n",
              "      <td>39</td>\n",
              "      <td>13</td>\n",
              "      <td>4</td>\n",
              "      <td>1</td>\n",
              "      <td>2174</td>\n",
              "      <td>0</td>\n",
              "      <td>40</td>\n",
              "      <td>0</td>\n",
              "    </tr>\n",
              "    <tr>\n",
              "      <th>1</th>\n",
              "      <td>50</td>\n",
              "      <td>13</td>\n",
              "      <td>4</td>\n",
              "      <td>1</td>\n",
              "      <td>0</td>\n",
              "      <td>0</td>\n",
              "      <td>13</td>\n",
              "      <td>0</td>\n",
              "    </tr>\n",
              "    <tr>\n",
              "      <th>2</th>\n",
              "      <td>38</td>\n",
              "      <td>9</td>\n",
              "      <td>4</td>\n",
              "      <td>1</td>\n",
              "      <td>0</td>\n",
              "      <td>0</td>\n",
              "      <td>40</td>\n",
              "      <td>0</td>\n",
              "    </tr>\n",
              "    <tr>\n",
              "      <th>3</th>\n",
              "      <td>53</td>\n",
              "      <td>7</td>\n",
              "      <td>2</td>\n",
              "      <td>1</td>\n",
              "      <td>0</td>\n",
              "      <td>0</td>\n",
              "      <td>40</td>\n",
              "      <td>0</td>\n",
              "    </tr>\n",
              "    <tr>\n",
              "      <th>4</th>\n",
              "      <td>28</td>\n",
              "      <td>13</td>\n",
              "      <td>2</td>\n",
              "      <td>0</td>\n",
              "      <td>0</td>\n",
              "      <td>0</td>\n",
              "      <td>40</td>\n",
              "      <td>0</td>\n",
              "    </tr>\n",
              "  </tbody>\n",
              "</table>\n",
              "</div>\n",
              "      <button class=\"colab-df-convert\" onclick=\"convertToInteractive('df-8b1ba8be-8da2-4c10-afe3-842b2e371112')\"\n",
              "              title=\"Convert this dataframe to an interactive table.\"\n",
              "              style=\"display:none;\">\n",
              "        \n",
              "  <svg xmlns=\"http://www.w3.org/2000/svg\" height=\"24px\"viewBox=\"0 0 24 24\"\n",
              "       width=\"24px\">\n",
              "    <path d=\"M0 0h24v24H0V0z\" fill=\"none\"/>\n",
              "    <path d=\"M18.56 5.44l.94 2.06.94-2.06 2.06-.94-2.06-.94-.94-2.06-.94 2.06-2.06.94zm-11 1L8.5 8.5l.94-2.06 2.06-.94-2.06-.94L8.5 2.5l-.94 2.06-2.06.94zm10 10l.94 2.06.94-2.06 2.06-.94-2.06-.94-.94-2.06-.94 2.06-2.06.94z\"/><path d=\"M17.41 7.96l-1.37-1.37c-.4-.4-.92-.59-1.43-.59-.52 0-1.04.2-1.43.59L10.3 9.45l-7.72 7.72c-.78.78-.78 2.05 0 2.83L4 21.41c.39.39.9.59 1.41.59.51 0 1.02-.2 1.41-.59l7.78-7.78 2.81-2.81c.8-.78.8-2.07 0-2.86zM5.41 20L4 18.59l7.72-7.72 1.47 1.35L5.41 20z\"/>\n",
              "  </svg>\n",
              "      </button>\n",
              "      \n",
              "  <style>\n",
              "    .colab-df-container {\n",
              "      display:flex;\n",
              "      flex-wrap:wrap;\n",
              "      gap: 12px;\n",
              "    }\n",
              "\n",
              "    .colab-df-convert {\n",
              "      background-color: #E8F0FE;\n",
              "      border: none;\n",
              "      border-radius: 50%;\n",
              "      cursor: pointer;\n",
              "      display: none;\n",
              "      fill: #1967D2;\n",
              "      height: 32px;\n",
              "      padding: 0 0 0 0;\n",
              "      width: 32px;\n",
              "    }\n",
              "\n",
              "    .colab-df-convert:hover {\n",
              "      background-color: #E2EBFA;\n",
              "      box-shadow: 0px 1px 2px rgba(60, 64, 67, 0.3), 0px 1px 3px 1px rgba(60, 64, 67, 0.15);\n",
              "      fill: #174EA6;\n",
              "    }\n",
              "\n",
              "    [theme=dark] .colab-df-convert {\n",
              "      background-color: #3B4455;\n",
              "      fill: #D2E3FC;\n",
              "    }\n",
              "\n",
              "    [theme=dark] .colab-df-convert:hover {\n",
              "      background-color: #434B5C;\n",
              "      box-shadow: 0px 1px 3px 1px rgba(0, 0, 0, 0.15);\n",
              "      filter: drop-shadow(0px 1px 2px rgba(0, 0, 0, 0.3));\n",
              "      fill: #FFFFFF;\n",
              "    }\n",
              "  </style>\n",
              "\n",
              "      <script>\n",
              "        const buttonEl =\n",
              "          document.querySelector('#df-8b1ba8be-8da2-4c10-afe3-842b2e371112 button.colab-df-convert');\n",
              "        buttonEl.style.display =\n",
              "          google.colab.kernel.accessAllowed ? 'block' : 'none';\n",
              "\n",
              "        async function convertToInteractive(key) {\n",
              "          const element = document.querySelector('#df-8b1ba8be-8da2-4c10-afe3-842b2e371112');\n",
              "          const dataTable =\n",
              "            await google.colab.kernel.invokeFunction('convertToInteractive',\n",
              "                                                     [key], {});\n",
              "          if (!dataTable) return;\n",
              "\n",
              "          const docLinkHtml = 'Like what you see? Visit the ' +\n",
              "            '<a target=\"_blank\" href=https://colab.research.google.com/notebooks/data_table.ipynb>data table notebook</a>'\n",
              "            + ' to learn more about interactive tables.';\n",
              "          element.innerHTML = '';\n",
              "          dataTable['output_type'] = 'display_data';\n",
              "          await google.colab.output.renderOutput(dataTable, element);\n",
              "          const docLink = document.createElement('div');\n",
              "          docLink.innerHTML = docLinkHtml;\n",
              "          element.appendChild(docLink);\n",
              "        }\n",
              "      </script>\n",
              "    </div>\n",
              "  </div>\n",
              "  "
            ],
            "text/plain": [
              "   age  education-num  race  ...  capital-loss  hours-per-week  income\n",
              "0   39             13     4  ...             0              40       0\n",
              "1   50             13     4  ...             0              13       0\n",
              "2   38              9     4  ...             0              40       0\n",
              "3   53              7     2  ...             0              40       0\n",
              "4   28             13     2  ...             0              40       0\n",
              "\n",
              "[5 rows x 8 columns]"
            ]
          },
          "metadata": {},
          "execution_count": 9
        }
      ],
      "source": [
        "import pandas as pd\n",
        "df=pd.read_csv('/content/makeSenseOfCensus.csv')\n",
        "df.head()\n",
        "\n"
      ]
    },
    {
      "cell_type": "code",
      "source": [
        "data_file ='/content/makeSenseOfCensus.csv'\n",
        "import numpy as np\n",
        "data = np.genfromtxt(data_file, delimiter=\",\", skip_header=1)\n",
        "data = np.genfromtxt(data_file, delimiter=\",\", skip_header=1,dtype=int)\n",
        "data_float=np.genfromtxt(data_file, delimiter=\",\", skip_header=1)\n",
        "data_str=np.genfromtxt(data_file,delimiter=',',skip_header=1,dtype=str)\n",
        "# printing the data\n",
        "\n",
        "print(\"\\nData: \\n\\n\", data)\n",
        "#Printing the type of data\n",
        "print(\"\\nType of data: \\n\\n\", type(data))\n"
      ],
      "metadata": {
        "colab": {
          "base_uri": "https://localhost:8080/"
        },
        "id": "JLRgIOd-JtNJ",
        "outputId": "bbd37d7d-88cf-4238-a064-e10968b26cf9"
      },
      "execution_count": null,
      "outputs": [
        {
          "output_type": "stream",
          "name": "stdout",
          "text": [
            "\n",
            "Data: \n",
            "\n",
            " [[39 13  4 ...  0 40  0]\n",
            " [50 13  4 ...  0 13  0]\n",
            " [38  9  4 ...  0 40  0]\n",
            " ...\n",
            " [48 13  4 ...  0 58  1]\n",
            " [40 10  4 ...  0 40  0]\n",
            " [39 13  4 ...  0 50  1]]\n",
            "\n",
            "Type of data: \n",
            "\n",
            " <class 'numpy.ndarray'>\n"
          ]
        }
      ]
    },
    {
      "cell_type": "code",
      "source": [
        "new_record=[[50, 9, 4, 1, 0, 0, 40, 0]]\n",
        "new_record"
      ],
      "metadata": {
        "colab": {
          "base_uri": "https://localhost:8080/"
        },
        "id": "YUD-v_0UKJJ5",
        "outputId": "212eba62-82a8-4762-93f6-180b64d83e3a"
      },
      "execution_count": null,
      "outputs": [
        {
          "output_type": "execute_result",
          "data": {
            "text/plain": [
              "[[50, 9, 4, 1, 0, 0, 40, 0]]"
            ]
          },
          "metadata": {},
          "execution_count": 11
        }
      ]
    },
    {
      "cell_type": "code",
      "source": [
        "#Create a new array called 'age' by taking only age column(age is the column with index 0) of 'census' array.\n",
        "age_col=data[:,0]\n",
        "age_col"
      ],
      "metadata": {
        "colab": {
          "base_uri": "https://localhost:8080/"
        },
        "id": "rjaG2n2xLPbV",
        "outputId": "6fe201cc-0e4f-4c6b-8236-a8a1da9e972e"
      },
      "execution_count": null,
      "outputs": [
        {
          "output_type": "execute_result",
          "data": {
            "text/plain": [
              "array([39, 50, 38, 53, 28, 37, 49, 52, 31, 42, 37, 30, 23, 32, 40, 34, 25,\n",
              "       32, 38, 43, 40, 54, 35, 43, 59, 56, 19, 54, 39, 49, 23, 20, 45, 30,\n",
              "       22, 48, 21, 19, 31, 48, 31, 53, 24, 49, 25, 57, 53, 44, 41, 29, 25,\n",
              "       18, 47, 50, 47, 43, 46, 35, 41, 30, 30, 32, 48, 42, 29, 36, 28, 53,\n",
              "       49, 25, 19, 31, 29, 23, 79, 27, 40, 67, 18, 31, 18, 52, 46, 59, 44,\n",
              "       53, 49, 33, 30, 43, 57, 37, 28, 30, 34, 29, 48, 37, 48, 32, 76, 44,\n",
              "       47, 20, 29, 32, 17, 30, 31, 42, 24, 38, 56, 28, 36, 53, 56, 49, 55,\n",
              "       22, 21, 40, 30, 29, 19, 47, 20, 31, 35, 39, 28, 24, 38, 37, 46, 38,\n",
              "       43, 27, 20, 49, 61, 27, 19, 45, 70, 31, 22, 36, 64, 43, 47, 34, 33,\n",
              "       21, 52, 48, 23, 71, 29, 42, 68, 25, 44, 28, 45, 36, 39, 46, 18, 66,\n",
              "       27, 28, 51, 27, 28, 27, 21, 34, 18, 33, 44, 43, 30, 40, 37, 34, 41,\n",
              "       53, 31, 58, 38, 24, 41, 47, 41, 23, 36, 40, 35, 24, 26, 19, 51, 42,\n",
              "       37, 18, 36, 35, 58, 17, 44, 37, 35, 60, 54, 37, 50, 38, 45, 25, 31,\n",
              "       64, 90, 54, 53, 18, 60, 66, 75, 65, 35, 41, 25, 33, 28, 59, 40, 41,\n",
              "       38, 23, 40, 41, 24, 20, 38, 56, 58, 32, 40, 45, 41, 42, 59, 19, 58,\n",
              "       42, 20, 32, 45, 50, 36, 45, 17, 59, 26, 37, 19, 64, 33, 33, 61, 17,\n",
              "       50, 27, 30, 43, 44, 35, 25, 24, 22, 42, 34, 60, 21, 57, 41, 50, 25,\n",
              "       50, 36, 31, 29, 21, 27, 65, 37, 39, 24, 38, 48, 21, 31, 55, 24, 43,\n",
              "       26, 46, 35, 41, 26, 34, 19, 36, 22, 24, 77, 22, 29, 62, 39, 43, 35,\n",
              "       29, 76, 63, 23, 43, 58, 66, 41, 26, 47, 55, 53, 17, 30, 49, 19, 45,\n",
              "       26, 38, 36, 33, 22, 43, 67, 30, 56, 31, 33, 26, 33, 46, 59, 38, 65,\n",
              "       40, 42, 26, 36, 62, 43, 43, 22, 28, 56, 22, 57, 39, 26, 17, 40, 45,\n",
              "       44, 20, 33, 23, 46, 38, 54, 46, 25, 46, 36, 23, 29, 44, 19, 19, 35,\n",
              "       27, 46, 34, 34, 44, 45, 20, 25, 52, 20, 28, 50, 34, 28, 41, 28, 46,\n",
              "       28, 32, 41, 24, 33, 46, 31, 35, 52, 30, 34, 34, 20, 17, 32, 29, 33,\n",
              "       25, 36, 23, 63, 47, 80, 17, 40, 30, 27, 33, 34, 34, 23, 42, 29, 45,\n",
              "       24, 44, 27, 20, 44, 51, 20, 17, 19, 45, 60, 42, 44, 40, 30, 38, 23,\n",
              "       32, 44, 54, 32, 50, 24, 37, 52, 38, 49, 30, 60, 22, 35, 30, 67, 46,\n",
              "       17, 22, 27, 23, 33, 43, 28, 41, 52, 25, 63, 59, 45, 38, 40, 46, 35,\n",
              "       34, 33, 41, 20, 23, 26, 72, 23, 62, 52, 58, 25, 24, 19, 43, 47, 39,\n",
              "       49, 53, 32, 34, 28, 57, 25, 20, 21, 34, 38, 50, 24, 37, 44, 28, 42,\n",
              "       74, 38, 44, 44, 26, 36, 41, 67, 39, 57, 29, 31, 34, 44, 29, 30, 27,\n",
              "       27, 32, 58, 35, 21, 28, 46, 36, 72, 35, 33, 69, 35, 31, 34, 30, 28,\n",
              "       54, 47, 24, 52, 20, 43, 45, 29, 47, 24, 51, 17, 37, 27, 29, 18, 36,\n",
              "       58, 26, 65, 57, 59, 27, 31, 21, 29, 18, 52, 57, 42, 55, 60, 31, 23,\n",
              "       27, 23, 42, 25, 49, 32, 19, 60, 42, 35, 48, 51, 29, 36, 17, 52, 24,\n",
              "       24, 26, 27, 39, 30, 50, 52, 46, 23, 45, 65, 29, 47, 30, 34, 38, 33,\n",
              "       49, 47, 49, 43, 30, 58, 19, 21, 33, 47, 52, 26, 60, 21, 36, 31, 50,\n",
              "       31, 71, 58, 30, 20, 24, 35, 38, 27, 29, 70, 34, 44, 43, 44, 35, 27,\n",
              "       43, 20, 42, 27, 42, 20, 24, 48, 17, 17, 33, 50, 22, 17, 32, 31, 58,\n",
              "       29, 37, 34, 23, 18, 34, 66, 45, 41, 26, 54, 24, 42, 20, 23, 25, 35,\n",
              "       31, 30, 19, 36, 31, 21, 31, 46, 44, 40, 45, 60, 18, 28, 36, 36, 40,\n",
              "       36, 31, 33, 19, 22, 34, 33, 41, 29, 50, 42, 43, 44, 20, 31, 65, 23,\n",
              "       55, 26, 25, 45, 35, 36, 43, 56, 42, 19, 55, 42, 26, 17, 42, 55, 32,\n",
              "       29, 46, 29, 22, 58, 23, 39, 27, 54, 33, 46, 37, 36, 59, 34, 53, 51,\n",
              "       32, 31, 22, 47, 32, 26, 37, 31, 37, 55, 23, 36, 34, 43, 54, 43, 28,\n",
              "       40, 41, 40, 42, 61, 18, 59, 21, 48, 41, 18, 23, 60, 22, 61, 25, 46,\n",
              "       43, 43, 24, 68, 31, 17, 32, 50, 33, 64, 20, 30, 22, 43, 22, 17, 47,\n",
              "       41, 56, 64, 47, 48, 31, 29, 30, 32, 57, 62, 39, 43, 24, 42, 53, 26,\n",
              "       73, 72, 55, 25, 41, 24, 63, 17, 35, 51, 62, 55, 43, 40, 37, 39, 31,\n",
              "       61, 26, 46, 26, 48, 34, 34, 59, 34, 49, 18, 43, 48, 28, 33, 24, 21,\n",
              "       17, 39, 29, 44, 24, 71, 51, 55, 41, 23, 38, 39, 19, 49, 32, 27, 38,\n",
              "       33, 63, 23, 33, 54, 29, 48, 35, 28, 37, 42, 40, 47, 22, 30, 28, 63,\n",
              "       51, 22, 27, 35, 46, 37, 24, 37, 53, 27, 38, 53, 34, 23, 39, 43, 67,\n",
              "       81, 21, 23, 25, 42, 38, 64, 32, 37, 51, 22, 33, 42, 19, 51, 23, 37,\n",
              "       37, 47, 41, 33, 31, 31, 35, 38, 18, 20, 54, 40, 36, 43, 44, 44, 43,\n",
              "       51, 18, 51, 41, 44, 33, 33, 42, 25, 32, 32, 36, 28, 20, 35, 55, 48,\n",
              "       36, 34, 28, 67, 37, 44, 25, 21, 40, 78, 34, 49, 22, 23, 60, 45, 63,\n",
              "       41, 47, 44, 51, 46, 41, 50, 47, 35, 56, 45, 48, 40, 39])"
            ]
          },
          "metadata": {},
          "execution_count": 12
        }
      ]
    },
    {
      "cell_type": "code",
      "source": [
        "#Find the max age and store it in a variable called 'max_age\n",
        "max_age=np.max(data[:,0])\n",
        "max_age"
      ],
      "metadata": {
        "colab": {
          "base_uri": "https://localhost:8080/"
        },
        "id": "sprV9wcQNHKY",
        "outputId": "bada8525-2cce-4c22-f40a-28b1e8581ae8"
      },
      "execution_count": null,
      "outputs": [
        {
          "output_type": "execute_result",
          "data": {
            "text/plain": [
              "90"
            ]
          },
          "metadata": {},
          "execution_count": 13
        }
      ]
    },
    {
      "cell_type": "code",
      "source": [
        "#Find the min age and store it in a variable called 'min_age'.\n",
        "min_age=np.min(data[:,0])\n",
        "min_age"
      ],
      "metadata": {
        "colab": {
          "base_uri": "https://localhost:8080/"
        },
        "id": "NEB_Wc0FNt-O",
        "outputId": "c0c429a2-4071-41d6-d9e5-e30d835984f5"
      },
      "execution_count": null,
      "outputs": [
        {
          "output_type": "execute_result",
          "data": {
            "text/plain": [
              "17"
            ]
          },
          "metadata": {},
          "execution_count": 14
        }
      ]
    },
    {
      "cell_type": "code",
      "source": [
        "#Find the mean of the age and store it in a variable called 'age_mean'.\n",
        "age_mean=np.mean(data[:,0])\n",
        "age_mean"
      ],
      "metadata": {
        "colab": {
          "base_uri": "https://localhost:8080/"
        },
        "id": "Gg4TNTS8ONrv",
        "outputId": "154c141a-9a22-498a-a214-2bb77177d252"
      },
      "execution_count": null,
      "outputs": [
        {
          "output_type": "execute_result",
          "data": {
            "text/plain": [
              "38.051"
            ]
          },
          "metadata": {},
          "execution_count": 15
        }
      ]
    },
    {
      "cell_type": "code",
      "source": [
        "#Find the standard deviation of the age and store it in a variable called 'age_std'\n",
        "age_std=np.std(data[:,0])\n",
        "age_std"
      ],
      "metadata": {
        "colab": {
          "base_uri": "https://localhost:8080/"
        },
        "id": "3pSlLs4EVNMQ",
        "outputId": "9836e2a1-a1c2-4109-b1f3-eca1c024adbe"
      },
      "execution_count": null,
      "outputs": [
        {
          "output_type": "execute_result",
          "data": {
            "text/plain": [
              "13.342803266180612"
            ]
          },
          "metadata": {},
          "execution_count": 32
        }
      ]
    },
    {
      "cell_type": "code",
      "source": [
        "#Create four different arrays by subsetting 'census' array by Race column(Race is the column with index 2) and save them in 'race_0','race_1', 'race_2', 'race_3' and 'race_4' respectively(Meaning: Store the array where 'race'column has value 0 in 'race_0', so on and so forth)\n",
        "race_0 = data[data[:,2]==0]\n",
        "race_0"
      ],
      "metadata": {
        "colab": {
          "base_uri": "https://localhost:8080/"
        },
        "id": "cLcNoNW-VfLD",
        "outputId": "a8191720-a407-47ca-ca15-54db10b29ce6"
      },
      "execution_count": null,
      "outputs": [
        {
          "output_type": "execute_result",
          "data": {
            "text/plain": [
              "array([[34,  4,  0,  1,  0,  0, 45,  0],\n",
              "       [35, 10,  0,  0,  0,  0, 40,  0],\n",
              "       [60,  6,  0,  0,  0,  0, 10,  0],\n",
              "       [51,  9,  0,  1,  0,  0, 40,  0],\n",
              "       [25, 10,  0,  0,  0,  0, 20,  0],\n",
              "       [20,  9,  0,  1,  0,  0, 48,  0],\n",
              "       [23, 10,  0,  0,  0,  0, 25,  0],\n",
              "       [29,  9,  0,  1,  0,  0, 40,  0],\n",
              "       [27, 12,  0,  1,  0,  0, 40,  0],\n",
              "       [31, 12,  0,  0,  0,  0, 40,  0]])"
            ]
          },
          "metadata": {},
          "execution_count": 16
        }
      ]
    },
    {
      "cell_type": "code",
      "source": [
        "race_1 = data[data[:,2]==1]\n",
        "race_1"
      ],
      "metadata": {
        "colab": {
          "base_uri": "https://localhost:8080/"
        },
        "id": "JPJKxA1BXOH8",
        "outputId": "277f6000-9201-452c-fff5-6fead8cef946"
      },
      "execution_count": null,
      "outputs": [
        {
          "output_type": "execute_result",
          "data": {
            "text/plain": [
              "array([[  30,   13,    1,    1,    0,    0,   40,    1],\n",
              "       [  40,   11,    1,    1,    0,    0,   40,    1],\n",
              "       [  54,   10,    1,    1,    0,    0,   60,    1],\n",
              "       [  30,    9,    1,    0,    0, 1573,   35,    0],\n",
              "       [  49,   10,    1,    1,    0,    0,   40,    1],\n",
              "       [  33,   13,    1,    0,    0,    0,   40,    0],\n",
              "       [  44,   14,    1,    0,    0,    0,   40,    0],\n",
              "       [  28,    9,    1,    0,    0,    0,   40,    0],\n",
              "       [  60,    9,    1,    1,    0,    0,   40,    0],\n",
              "       [  42,    9,    1,    1,    0,    0,   40,    1],\n",
              "       [  37,   10,    1,    1,    0,    0,   75,    1],\n",
              "       [  39,   14,    1,    0, 3464,    0,   40,    0],\n",
              "       [  21,   10,    1,    0,    0,    0,   25,    0],\n",
              "       [  24,   10,    1,    0,    0,    0,   40,    0],\n",
              "       [  34,   14,    1,    1, 7298,    0,   35,    1],\n",
              "       [  27,   10,    1,    1,    0, 1980,   40,    0],\n",
              "       [  40,   11,    1,    1,    0,    0,   40,    1],\n",
              "       [  55,    9,    1,    0,    0,    0,   40,    0],\n",
              "       [  35,   16,    1,    1,    0,    0,   40,    1],\n",
              "       [  29,   10,    1,    0,    0,    0,   40,    0],\n",
              "       [  20,    7,    1,    0,    0, 1762,   40,    0],\n",
              "       [  55,   10,    1,    0,    0,    0,   40,    0],\n",
              "       [  51,   13,    1,    1,    0, 2415,   40,    1],\n",
              "       [  28,   11,    1,    0,    0,    0,   40,    0],\n",
              "       [  43,   14,    1,    0,    0,    0,   50,    0],\n",
              "       [  67,    9,    1,    1,    0,    0,   40,    1],\n",
              "       [  48,   13,    1,    1,    0,    0,   40,    1]])"
            ]
          },
          "metadata": {},
          "execution_count": 17
        }
      ]
    },
    {
      "cell_type": "code",
      "source": [
        "race_2 = data[data[:,2]==2]\n",
        "race_2"
      ],
      "metadata": {
        "colab": {
          "base_uri": "https://localhost:8080/"
        },
        "id": "ubPKRlMSXVtv",
        "outputId": "a85fd6b6-8e37-4a38-8529-873d603937c7"
      },
      "execution_count": null,
      "outputs": [
        {
          "output_type": "execute_result",
          "data": {
            "text/plain": [
              "array([[  53,    7,    2,    1,    0,    0,   40,    0],\n",
              "       [  28,   13,    2,    0,    0,    0,   40,    0],\n",
              "       [  49,    5,    2,    0,    0,    0,   16,    0],\n",
              "       [  37,   10,    2,    1,    0,    0,   80,    1],\n",
              "       [  32,   12,    2,    1,    0,    0,   50,    0],\n",
              "       [  54,    9,    2,    0,    0,    0,   20,    0],\n",
              "       [  35,    5,    2,    1,    0,    0,   40,    0],\n",
              "       [  20,   10,    2,    1,    0,    0,   44,    0],\n",
              "       [  22,   10,    2,    1,    0,    0,   15,    0],\n",
              "       [  57,   13,    2,    1,    0,    0,   40,    1],\n",
              "       [  31,   13,    2,    0,    0,    0,   40,    0],\n",
              "       [  28,   10,    2,    0,    0,    0,   25,    0],\n",
              "       [  32,    9,    2,    1,    0,    0,   40,    0],\n",
              "       [  49,   11,    2,    1,    0,    0,   40,    1],\n",
              "       [  30,   13,    2,    1,    0,    0,   40,    0],\n",
              "       [  19,   10,    2,    1,    0,    0,   35,    0],\n",
              "       [  46,   12,    2,    0,    0,    0,   36,    0],\n",
              "       [  31,    9,    2,    0,    0,    0,   30,    0],\n",
              "       [  71,   10,    2,    1,    0, 1816,    2,    0],\n",
              "       [  42,   13,    2,    1,    0,    0,   50,    0],\n",
              "       [  21,    9,    2,    1,    0,    0,   40,    0],\n",
              "       [  34,    9,    2,    1,    0,    0,   40,    0],\n",
              "       [  44,   10,    2,    1,    0,    0,   38,    1],\n",
              "       [  30,   10,    2,    1,    0,    0,   45,    0],\n",
              "       [  34,    9,    2,    1,    0,    0,   40,    0],\n",
              "       [  38,   10,    2,    0,    0,    0,   28,    0],\n",
              "       [  41,   13,    2,    1,    0,    0,   40,    0],\n",
              "       [  36,   13,    2,    1, 7298,    0,   36,    1],\n",
              "       [  44,    9,    2,    1,    0,    0,   40,    0],\n",
              "       [  37,   13,    2,    1,    0,    0,   60,    1],\n",
              "       [  90,    9,    2,    1,    0, 2206,   40,    0],\n",
              "       [  54,    9,    2,    1,    0,    0,   20,    0],\n",
              "       [  35,    7,    2,    1, 3674,    0,   40,    0],\n",
              "       [  41,    9,    2,    0,    0,    0,   38,    0],\n",
              "       [  42,   13,    2,    0,    0,    0,   40,    0],\n",
              "       [  59,    6,    2,    0,    0,    0,   30,    0],\n",
              "       [  43,    9,    2,    1,    0,    0,   40,    0],\n",
              "       [  34,   12,    2,    0,    0,    0,   45,    0],\n",
              "       [  27,   13,    2,    0,    0,    0,   40,    0],\n",
              "       [  19,   10,    2,    0,    0,    0,   25,    0],\n",
              "       [  36,   13,    2,    0,    0,    0,   40,    1],\n",
              "       [  23,   11,    2,    0,    0,    0,   15,    0],\n",
              "       [  41,   10,    2,    1,    0,    0,   45,    0],\n",
              "       [  19,    9,    2,    1,    0,    0,   30,    0],\n",
              "       [  45,    9,    2,    1,    0,    0,   40,    0],\n",
              "       [  22,   10,    2,    0,    0,    0,   40,    0],\n",
              "       [  45,    9,    2,    1,    0,    0,   40,    0],\n",
              "       [  44,    9,    2,    1,    0,    0,   40,    0],\n",
              "       [  41,   10,    2,    0,    0,    0,   24,    0],\n",
              "       [  24,    9,    2,    0,    0,    0,   40,    0],\n",
              "       [  34,    7,    2,    1,    0,    0,   40,    0],\n",
              "       [  34,    9,    2,    1,  594,    0,   60,    0],\n",
              "       [  44,    9,    2,    0,    0,    0,   40,    0],\n",
              "       [  19,    9,    2,    0,    0,    0,   40,    0],\n",
              "       [  42,   12,    2,    1,    0,    0,   40,    1],\n",
              "       [  38,   10,    2,    1,    0,    0,   50,    0],\n",
              "       [  54,    9,    2,    1,    0,    0,   40,    0],\n",
              "       [  52,    8,    2,    1,  594,    0,   40,    0],\n",
              "       [  25,   10,    2,    0,    0,    0,   20,    0],\n",
              "       [  24,   13,    2,    1,    0,    0,   40,    0],\n",
              "       [  47,    9,    2,    0,    0,    0,   40,    0],\n",
              "       [  53,    3,    2,    0,    0,    0,   30,    0],\n",
              "       [  24,   10,    2,    1,    0,    0,   50,    0],\n",
              "       [  36,    9,    2,    1,    0,    0,   40,    0],\n",
              "       [  57,    2,    2,    0,    0,    0,   30,    0],\n",
              "       [  34,    9,    2,    0,    0,    0,   40,    0],\n",
              "       [  35,    9,    2,    0,    0,    0,   40,    0],\n",
              "       [  33,   11,    2,    0,    0,    0,   40,    1],\n",
              "       [  24,    9,    2,    0,    0,    0,   40,    0],\n",
              "       [  48,    9,    2,    0,    0,    0,   37,    0],\n",
              "       [  36,    9,    2,    1,    0,    0,   40,    0],\n",
              "       [  30,    9,    2,    1,    0,    0,   45,    0],\n",
              "       [  45,    7,    2,    0,    0,    0,   20,    0],\n",
              "       [  65,    5,    2,    0,    0,    0,   24,    0],\n",
              "       [  30,    9,    2,    1,    0,    0,   60,    0],\n",
              "       [  47,   10,    2,    0,    0,    0,   40,    0],\n",
              "       [  49,    6,    2,    0,    0,    0,   40,    0],\n",
              "       [  30,   13,    2,    0,    0,    0,   40,    1],\n",
              "       [  44,    8,    2,    1,    0,    0,   40,    1],\n",
              "       [  42,    9,    2,    1,    0,    0,   40,    1],\n",
              "       [  23,   10,    2,    1,    0,    0,   40,    0],\n",
              "       [  24,   10,    2,    0,    0,    0,   45,    0],\n",
              "       [  40,    8,    2,    1,    0,    0,   40,    0],\n",
              "       [  45,   10,    2,    1,    0,    0,   40,    0],\n",
              "       [  36,   10,    2,    0,    0,    0,   40,    0],\n",
              "       [  31,    9,    2,    0,    0,    0,   40,    0],\n",
              "       [  45,   10,    2,    0,    0,    0,   40,    0],\n",
              "       [  36,   10,    2,    0,    0,    0,   36,    0],\n",
              "       [  56,    9,    2,    0,  594,    0,   20,    0],\n",
              "       [  32,   10,    2,    0,    0,    0,   40,    0],\n",
              "       [  29,    7,    2,    1,    0,    0,   40,    0],\n",
              "       [  37,    9,    2,    1,    0,    0,   40,    0],\n",
              "       [  42,   10,    2,    0,    0,    0,   38,    0],\n",
              "       [  22,   10,    2,    1,    0,    0,   20,    0],\n",
              "       [  25,    9,    2,    1,    0,    0,   40,    0],\n",
              "       [  24,    9,    2,    1,    0, 1721,   30,    0],\n",
              "       [  22,   10,    2,    1,    0,    0,   40,    0],\n",
              "       [  55,    3,    2,    1,    0,    0,   25,    0],\n",
              "       [  23,    9,    2,    0,    0,    0,    7,    0],\n",
              "       [  54,    9,    2,    1,    0,    0,   40,    0],\n",
              "       [  48,   10,    2,    0,    0,    0,   30,    0],\n",
              "       [  24,   13,    2,    1,    0,    0,   15,    0],\n",
              "       [  23,    9,    2,    1,    0,    0,   40,    0],\n",
              "       [  38,   10,    2,    0,    0,    0,   40,    0],\n",
              "       [  35,    9,    2,    1,    0,    0,   40,    0],\n",
              "       [  54,   10,    2,    0,    0,    0,   35,    0],\n",
              "       [  51,    4,    2,    0,    0,    0,   40,    0],\n",
              "       [  78,    9,    2,    0, 2964,    0,   40,    0],\n",
              "       [  23,    9,    2,    0,    0,    0,   40,    0],\n",
              "       [  41,    9,    2,    0,    0,    0,   35,    0]])"
            ]
          },
          "metadata": {},
          "execution_count": 18
        }
      ]
    },
    {
      "cell_type": "code",
      "source": [
        "race_3 = data[data[:,2]==3]\n",
        "race_3"
      ],
      "metadata": {
        "colab": {
          "base_uri": "https://localhost:8080/"
        },
        "id": "OstFcfz3XcEw",
        "outputId": "e95c0929-ed01-45cf-d47e-cbeb9bc818c8"
      },
      "execution_count": null,
      "outputs": [
        {
          "output_type": "execute_result",
          "data": {
            "text/plain": [
              "array([[  25,   10,    3,    0,    0,    0,   40,    0],\n",
              "       [  33,   10,    3,    0,    0,    0,   40,    0],\n",
              "       [  65,    7,    3,    1,    0,    0,   40,    0],\n",
              "       [  28,    4,    3,    1,    0, 2179,   40,    0],\n",
              "       [  44,    7,    3,    0,    0,    0,   46,    0],\n",
              "       [  40,   13,    3,    0,    0,    0,   55,    1]])"
            ]
          },
          "metadata": {},
          "execution_count": 19
        }
      ]
    },
    {
      "cell_type": "code",
      "source": [
        "race_4 = data[data[:,2]==4]\n",
        "race_4"
      ],
      "metadata": {
        "colab": {
          "base_uri": "https://localhost:8080/"
        },
        "id": "VpmodeIOXhyg",
        "outputId": "a07e369e-3772-43b7-b8c2-428f50943ffc"
      },
      "execution_count": null,
      "outputs": [
        {
          "output_type": "execute_result",
          "data": {
            "text/plain": [
              "array([[39, 13,  4, ...,  0, 40,  0],\n",
              "       [50, 13,  4, ...,  0, 13,  0],\n",
              "       [38,  9,  4, ...,  0, 40,  0],\n",
              "       ...,\n",
              "       [48, 13,  4, ...,  0, 58,  1],\n",
              "       [40, 10,  4, ...,  0, 40,  0],\n",
              "       [39, 13,  4, ...,  0, 50,  1]])"
            ]
          },
          "metadata": {},
          "execution_count": 20
        }
      ]
    },
    {
      "cell_type": "code",
      "source": [
        "#Store the length of the above created arrays in 'len_0', 'len_1','len_2', 'len_3' and 'len_4' respectively\n",
        "len_0=len(race_0)\n",
        "print(len_0)\n",
        "len_1=len(race_1)\n",
        "print(len_1)\n",
        "len_2=len(race_2)\n",
        "print(len_2)\n",
        "len_3=len(race_3)\n",
        "print(len_3)\n",
        "len_4=len(race_4)\n",
        "print(len(race_4))"
      ],
      "metadata": {
        "colab": {
          "base_uri": "https://localhost:8080/"
        },
        "id": "3j_oKE5QWDGr",
        "outputId": "444a5cf8-9fbd-416b-cf55-cedf665b779f"
      },
      "execution_count": null,
      "outputs": [
        {
          "output_type": "stream",
          "name": "stdout",
          "text": [
            "10\n",
            "27\n",
            "110\n",
            "6\n",
            "847\n"
          ]
        }
      ]
    },
    {
      "cell_type": "code",
      "source": [
        "#Find out which is the race with the minimum no. of citizens\n",
        "min_race= min(len_0, len_1, len_2, len_3, len_4)\n",
        "if min_race==len_0:\n",
        "  print(\"race_0 has the min citizen\",len_0)\n",
        "elif min_race==len_1:\n",
        "  print('race_1 has the min citizen',len_1)\n",
        "elif min_race==len_2:\n",
        "  print('race_2 has the min citizen',len_2)\n",
        "elif min_race==len_3:\n",
        "  print('race_3 has the min citizen',len_3)\n",
        "elif min_race==len_4:\n",
        "  print('race_4 has the min citizen',len_4)\n",
        "else:\n",
        "  pass"
      ],
      "metadata": {
        "colab": {
          "base_uri": "https://localhost:8080/"
        },
        "id": "vntuCz2Gi5m4",
        "outputId": "4e32a492-3d69-46d5-dbbe-a3d490b9a99f"
      },
      "execution_count": 36,
      "outputs": [
        {
          "output_type": "stream",
          "name": "stdout",
          "text": [
            "race_3 has the min citizen 6\n"
          ]
        }
      ]
    },
    {
      "cell_type": "code",
      "source": [
        ""
      ],
      "metadata": {
        "id": "EWA0KmzCotQ_"
      },
      "execution_count": null,
      "outputs": []
    },
    {
      "cell_type": "code",
      "source": [
        "#Store the number associated with the minority race in a variable called 'minority_race'(For eg: if \"len(race_5)\" is the minimum, store 5 in 'minority_race' because that is the index of the race having the least no. of citizens )\n",
        "minority_race= min(len_0,len_1,len_2,len_3,len_4)\n",
        "minority_race"
      ],
      "metadata": {
        "colab": {
          "base_uri": "https://localhost:8080/"
        },
        "id": "ouBj1hQC0_7N",
        "outputId": "0d01baba-36bb-4f45-9833-6d2685bee0bb"
      },
      "execution_count": 37,
      "outputs": [
        {
          "output_type": "execute_result",
          "data": {
            "text/plain": [
              "6"
            ]
          },
          "metadata": {},
          "execution_count": 37
        }
      ]
    },
    {
      "cell_type": "code",
      "source": [
        "#Create a new subset array called 'senior_citizens' by filtering 'census' according to age>60 (age is the column with index 0)\n",
        "senior_citizens= data[data[:,0] > 60]\n",
        "senior_citizens"
      ],
      "metadata": {
        "colab": {
          "base_uri": "https://localhost:8080/"
        },
        "id": "sNoXd-lfFxND",
        "outputId": "6b2c8082-3151-4866-b784-e10941b63d8b"
      },
      "execution_count": 31,
      "outputs": [
        {
          "output_type": "execute_result",
          "data": {
            "text/plain": [
              "array([[   79,    10,     4,     1,     0,     0,    20,     0],\n",
              "       [   67,     6,     4,     1,     0,     0,     2,     0],\n",
              "       [   76,    14,     4,     1,     0,     0,    40,     1],\n",
              "       [   61,     9,     4,     1,     0,     0,    40,     0],\n",
              "       [   70,    10,     4,     1,     0,     0,    40,     0],\n",
              "       [   64,     7,     4,     1,     0,  2179,    40,     0],\n",
              "       [   71,    10,     2,     1,     0,  1816,     2,     0],\n",
              "       [   68,     2,     4,     0,     0,     0,    20,     0],\n",
              "       [   66,    11,     4,     0,     0,     0,    20,     0],\n",
              "       [   64,     2,     4,     1,     0,     0,    40,     0],\n",
              "       [   90,     9,     2,     1,     0,  2206,    40,     0],\n",
              "       [   66,     9,     4,     1,  1409,     0,    50,     0],\n",
              "       [   75,    11,     4,     0,     0,     0,    20,     0],\n",
              "       [   65,     9,     4,     0,     0,     0,    40,     0],\n",
              "       [   64,     9,     4,     1,     0,     0,    40,     1],\n",
              "       [   61,     9,     4,     1,     0,     0,    40,     1],\n",
              "       [   65,     9,     4,     1,     0,     0,    16,     0],\n",
              "       [   77,    10,     4,     1,     0,     0,    40,     0],\n",
              "       [   62,     9,     4,     0,     0,     0,    24,     0],\n",
              "       [   76,    14,     4,     1,     0,     0,    10,     0],\n",
              "       [   63,     9,     4,     1,     0,     0,    45,     0],\n",
              "       [   66,     9,     4,     1,  2050,     0,    55,     0],\n",
              "       [   67,     7,     4,     1,     0,     0,     8,     0],\n",
              "       [   65,     7,     3,     1,     0,     0,    40,     0],\n",
              "       [   62,    14,     4,     1,     0,     0,    40,     1],\n",
              "       [   63,     9,     4,     1,     0,     0,    40,     1],\n",
              "       [   80,     9,     4,     1,     0,     0,    24,     0],\n",
              "       [   67,    11,     4,     0,     0,     0,    24,     0],\n",
              "       [   63,     2,     4,     1,     0,     0,    35,     0],\n",
              "       [   72,     9,     4,     1,     0,     0,    20,     0],\n",
              "       [   62,     9,     4,     1,     0,     0,    40,     0],\n",
              "       [   74,    10,     4,     0,     0,     0,     9,     0],\n",
              "       [   67,    15,     4,     1, 20051,     0,    48,     1],\n",
              "       [   72,     7,     4,     0,     0,     0,    40,     0],\n",
              "       [   69,     7,     4,     0,     0,     0,    40,     0],\n",
              "       [   65,    10,     4,     1,     0,     0,    30,     1],\n",
              "       [   65,     5,     2,     0,     0,     0,    24,     0],\n",
              "       [   71,     9,     4,     1,     0,     0,    15,     0],\n",
              "       [   70,     5,     4,     0,  1111,     0,    15,     0],\n",
              "       [   66,     4,     4,     1,     0,     0,     4,     0],\n",
              "       [   65,     7,     4,     1,  9386,     0,    59,     1],\n",
              "       [   61,     9,     4,     1,     0,  2352,    50,     0],\n",
              "       [   61,     9,     4,     1,     0,     0,    40,     0],\n",
              "       [   68,     7,     4,     1,     0,     0,    20,     0],\n",
              "       [   64,    13,     4,     1,     0,     0,    40,     1],\n",
              "       [   64,     9,     4,     1,     0,     0,    45,     0],\n",
              "       [   62,     9,     4,     0,     0,     0,    40,     0],\n",
              "       [   73,     9,     4,     1,     0,     0,    40,     0],\n",
              "       [   72,     7,     4,     0,     0,     0,    24,     0],\n",
              "       [   63,     9,     4,     1,     0,     0,     6,     0],\n",
              "       [   62,    13,     4,     0,     0,     0,    48,     0],\n",
              "       [   61,    14,     4,     0,     0,     0,    40,     1],\n",
              "       [   71,    14,     4,     1, 10605,     0,    40,     1],\n",
              "       [   63,    10,     4,     1,     0,     0,    15,     0],\n",
              "       [   63,     4,     4,     1,     0,     0,    55,     0],\n",
              "       [   67,     9,     1,     1,     0,     0,    40,     1],\n",
              "       [   81,     9,     4,     1,     0,     0,    30,     0],\n",
              "       [   64,     9,     4,     1,     0,     0,     5,     0],\n",
              "       [   67,    13,     4,     1,     0,  2392,    40,     1],\n",
              "       [   78,     9,     2,     0,  2964,     0,    40,     0],\n",
              "       [   63,    11,     4,     0,     0,     0,    20,     0]])"
            ]
          },
          "metadata": {},
          "execution_count": 31
        }
      ]
    },
    {
      "cell_type": "code",
      "source": [
        "#Add all the working hours(working hours is the column with index 6) of 'senior_citizens' and store it in a variable called 'working_hours_sum'\n",
        "working_hours_sum=sum(senior_citizens[:,6])\n",
        "working_hours_sum\n"
      ],
      "metadata": {
        "colab": {
          "base_uri": "https://localhost:8080/"
        },
        "id": "Qs0LA16YGi2d",
        "outputId": "3d7714ef-7e65-4c6c-d473-4e795bd575ab"
      },
      "execution_count": 47,
      "outputs": [
        {
          "output_type": "execute_result",
          "data": {
            "text/plain": [
              "1917"
            ]
          },
          "metadata": {},
          "execution_count": 47
        }
      ]
    },
    {
      "cell_type": "code",
      "source": [
        "#Find the length of 'senior_citizens' and store it in a variable called 'senior_citizens_len\n",
        "senior_citizens_len=len(senior_citizens)\n",
        "senior_citizens_len"
      ],
      "metadata": {
        "colab": {
          "base_uri": "https://localhost:8080/"
        },
        "id": "T7CWsjpYGyLn",
        "outputId": "a6392c48-1354-4036-bd0f-fb3e9782aebb"
      },
      "execution_count": 48,
      "outputs": [
        {
          "output_type": "execute_result",
          "data": {
            "text/plain": [
              "61"
            ]
          },
          "metadata": {},
          "execution_count": 48
        }
      ]
    },
    {
      "cell_type": "code",
      "source": [
        "#Finally find the average working hours of the senior citizens by dividing 'working_hours_sum' by 'senior_citizens_len' and store it in a variable called 'avg_working hours'.\n",
        "avg_working_hours = working_hours_sum/senior_citizens_len\n",
        "avg_working_hours"
      ],
      "metadata": {
        "colab": {
          "base_uri": "https://localhost:8080/"
        },
        "id": "TK7VW0G5GzYz",
        "outputId": "f8f963e4-42b3-48ac-8efa-c1443f1b5502"
      },
      "execution_count": 49,
      "outputs": [
        {
          "output_type": "execute_result",
          "data": {
            "text/plain": [
              "31.42622950819672"
            ]
          },
          "metadata": {},
          "execution_count": 49
        }
      ]
    },
    {
      "cell_type": "code",
      "source": [
        "#Print 'avg_working_hours' and see if the govt. policy is followed.\n",
        "if avg_working_hours <= 25:\n",
        "  print(\"gov police is followed\")\n",
        "else:\n",
        "  print(\"gov police is not followed\")\n"
      ],
      "metadata": {
        "colab": {
          "base_uri": "https://localhost:8080/"
        },
        "id": "sXz28MjoG3Fb",
        "outputId": "ab512b74-31a3-436b-dae5-8245ef253807"
      },
      "execution_count": 50,
      "outputs": [
        {
          "output_type": "stream",
          "name": "stdout",
          "text": [
            "gov police is not followed\n"
          ]
        }
      ]
    },
    {
      "cell_type": "code",
      "source": [
        "#Create two new subset arrays called 'high' and 'low' by filtering 'census' according to education-num>10 and education-num<=10 (education-num is the column with index 1) respectively.\n",
        "high_edu=data[data[:,1]>10]\n",
        "print(len(high_edu))\n",
        "print(sum(high_edu))\n"
      ],
      "metadata": {
        "colab": {
          "base_uri": "https://localhost:8080/"
        },
        "id": "0I485oj-NrUR",
        "outputId": "900723b7-aa46-4fd6-8870-7b5a2cb5c589"
      },
      "execution_count": 83,
      "outputs": [
        {
          "output_type": "stream",
          "name": "stdout",
          "text": [
            "327\n",
            "[ 12745   4236   1221    222 361938  42747  14097    140]\n"
          ]
        }
      ]
    },
    {
      "cell_type": "code",
      "source": [
        "low_edu=data[data[:,1]<=10]\n",
        "print(len(low_edu))\n",
        "print(sum(low_edu))\n"
      ],
      "metadata": {
        "colab": {
          "base_uri": "https://localhost:8080/"
        },
        "id": "dWUR2XdfS0mX",
        "outputId": "e17b07fe-d129-4eaf-fab2-dea79a9fc2ba"
      },
      "execution_count": 84,
      "outputs": [
        {
          "output_type": "stream",
          "name": "stdout",
          "text": [
            "673\n",
            "[ 25306   5848   2432    449 226588  50213  25779     92]\n"
          ]
        }
      ]
    },
    {
      "cell_type": "code",
      "source": [
        "#Find the mean of income column(income is the column with index 7) of 'high' array and store it in 'avg_pay_high'. Do the same for 'low' array and store it's mean in 'avg_pay_low'.\n",
        "avg_pay_high=high_edu[:,7]\n",
        "print(round(avg_pay_high.mean(),2))\n",
        "avg_pay_low=low_edu[:,7]\n",
        "print(round(avg_pay_low.mean(),2))"
      ],
      "metadata": {
        "colab": {
          "base_uri": "https://localhost:8080/"
        },
        "id": "VVrp7gg6NwAz",
        "outputId": "c556e124-4462-4ea6-8923-f7a11280385a"
      },
      "execution_count": 88,
      "outputs": [
        {
          "output_type": "stream",
          "name": "stdout",
          "text": [
            "0.43\n",
            "0.14\n"
          ]
        }
      ]
    },
    {
      "cell_type": "code",
      "source": [
        ""
      ],
      "metadata": {
        "id": "bG3059YlV4ak"
      },
      "execution_count": null,
      "outputs": []
    }
  ]
}